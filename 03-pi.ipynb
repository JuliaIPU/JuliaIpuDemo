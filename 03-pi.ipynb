{
 "cells": [
  {
   "cell_type": "markdown",
   "id": "f20e0ca9-7b4f-45ac-8b52-1df3d672d6d9",
   "metadata": {},
   "source": [
    "# Computing pi on the IPU\n",
    "\n",
    "This notebook computes $\\pi$ using a numerical integration method\n",
    "\n",
    "$$  \\int^{1}_0\\frac{1}{1+x^2}\\mathrm{d} x = \\frac{\\pi}{4} $$\n",
    "\n",
    "Note: on the IPU we can only use half and single precision floating point numbers, but this algorithm doesn't produce particularly accurate results with these precision, but the point of this exercise is only to write a simple number-crunching program.\n",
    "\n",
    "This is inspired by https://github.com/UCL-RITS/pi_examples/, a collection of multiple implementations of the same algorithm in many other languages and frameworks."
   ]
  },
  {
   "cell_type": "code",
   "execution_count": 1,
   "id": "69d0c0bf-5361-48b3-9635-15c1b57fc6c4",
   "metadata": {},
   "outputs": [
    {
     "name": "stderr",
     "output_type": "stream",
     "text": [
      "WARNING: using IPUCompiler.In in module Main conflicts with an existing identifier.\n",
      "WARNING: using IPUCompiler.Out in module Main conflicts with an existing identifier.\n"
     ]
    }
   ],
   "source": [
    "using IPUToolkit.IPUCompiler, IPUToolkit.Poplar"
   ]
  },
  {
   "cell_type": "code",
   "execution_count": 2,
   "id": "9e4fb98a-be82-42a7-99cd-2f8f455cbd91",
   "metadata": {},
   "outputs": [],
   "source": [
    "ENV[\"POPLAR_RUNTIME_OPTIONS\"] = \"\"\"{\"target.hostSyncTimeout\":\"60\"}\"\"\"\n",
    "IPUCompiler.KEEP_LLVM_FILES[] = true;"
   ]
  },
  {
   "cell_type": "code",
   "execution_count": 3,
   "id": "61761e05-e3c8-4caa-9e79-e459b68f3d4d",
   "metadata": {},
   "outputs": [
    {
     "name": "stderr",
     "output_type": "stream",
     "text": [
      "\u001b[36m\u001b[1m[ \u001b[22m\u001b[39m\u001b[36m\u001b[1mInfo: \u001b[22m\u001b[39mTrying to attach to device 0...\n",
      "\u001b[36m\u001b[1m[ \u001b[22m\u001b[39m\u001b[36m\u001b[1mInfo: \u001b[22m\u001b[39mSuccessfully attached to device 0\n",
      "\u001b[32m✓ Compiling codelet Pi: \t Time: 0:00:04\u001b[39m\n"
     ]
    },
    {
     "name": "stdout",
     "output_type": "stream",
     "text": [
      "Calculating PI using:\n",
      "  4294966272 slices\n",
      "  1472 IPU tiles\n",
      "Obtained value of PI: 3.1499734\n",
      "Time taken: 0.1843 seconds (245093526 cycles at 1.33 GHz)\n"
     ]
    }
   ],
   "source": [
    "device = Poplar.get_ipu_device()\n",
    "target = Poplar.DeviceGetTarget(device)\n",
    "graph = Poplar.Graph(target)\n",
    "\n",
    "num_tiles = Int(Poplar.TargetGetNumTiles(target))\n",
    "n::UInt32 = typemax(UInt32) ÷ num_tiles\n",
    "num_steps::UInt32 = num_tiles * n\n",
    "slice::Float32 = 1 / num_steps\n",
    "\n",
    "tile_clock_frequency = Poplar.TargetGetTileClockFrequency(target)\n",
    "\n",
    "ids = collect(UInt32.(0:(num_tiles - 1)))\n",
    "sums = similar(ids, Float32)\n",
    "cycles = similar(ids)\n",
    "\n",
    "# Why are we using `@eval`?  Because inside a codelet we cannot access non-constant globals,\n",
    "# so we can either make them constant, or interpolate them via `@eval` and let people play\n",
    "# with the values without having to restart the session.  I think the latter is more\n",
    "# user-friendly :)  And a top-level `@eval` is not _too_ bad.\n",
    "@eval function pi_kernel(i::T) where {T<:Integer}\n",
    "    sum = 0f0\n",
    "    for j in (i * $(n)):((i + one(T)) * $(n) - one(T))\n",
    "        x = (j - 5f-1) * $(slice)\n",
    "        sum += 4 / (1 + x ^ 2)\n",
    "    end\n",
    "    return sum\n",
    "end\n",
    "\n",
    "@codelet graph function Pi(in::VertexVector{UInt32, IPUCompiler.In},\n",
    "                           out::VertexVector{Float32, IPUCompiler.Out},\n",
    "                           cycles::VertexVector{UInt32, IPUCompiler.Out})\n",
    "    # Each tile deals with one-element vectors only.  In `out` we store the result of the\n",
    "    # kernel, in `cycles` we store the cycles count on this tile.\n",
    "    cycles[begin] = @ipuelapsed(out[begin] = pi_kernel(in[begin]))\n",
    "end\n",
    "\n",
    "ids_ipu = Poplar.GraphAddConstant(graph, ids)\n",
    "sums_ipu = similar(graph, sums, \"sums\");\n",
    "cycles_ipu = similar(graph, cycles, \"cycles\");\n",
    "\n",
    "prog = Poplar.ProgramSequence()\n",
    "\n",
    "add_vertex(graph, prog, 0:(num_tiles - 1), Pi, ids_ipu, sums_ipu, cycles_ipu)\n",
    "\n",
    "Poplar.GraphCreateHostRead(graph, \"sums-read\", sums_ipu)\n",
    "Poplar.GraphCreateHostRead(graph, \"cycles-read\", cycles_ipu)\n",
    "\n",
    "flags = Poplar.OptionFlags()\n",
    "Poplar.OptionFlagsSet(flags, \"debug.instrument\", \"true\")\n",
    "\n",
    "engine = Poplar.Engine(graph, prog, flags)\n",
    "Poplar.EngineLoadAndRun(engine, device)\n",
    "Poplar.EngineReadTensor(engine, \"sums-read\", sums)\n",
    "Poplar.EngineReadTensor(engine, \"cycles-read\", cycles)\n",
    "\n",
    "Poplar.detach_devices()\n",
    "\n",
    "pi = sum(sums) * slice\n",
    "time = round(maximum(cycles) / tile_clock_frequency; sigdigits=4)\n",
    "\n",
    "print(\"\"\"\n",
    "      Calculating PI using:\n",
    "        $(num_steps) slices\n",
    "        $(num_tiles) IPU tiles\n",
    "      Obtained value of PI: $(pi)\n",
    "      Time taken: $(time) seconds ($(maximum(cycles)) cycles at $(round(tile_clock_frequency / 1e9; sigdigits=3)) GHz)\n",
    "      \"\"\")"
   ]
  },
  {
   "cell_type": "code",
   "execution_count": 4,
   "id": "b49d7d0a-ad50-4a00-8cf9-f0385e86931c",
   "metadata": {},
   "outputs": [],
   "source": [
    "# Always remember to release the device after use!\n",
    "Poplar.detach_devices()"
   ]
  }
 ],
 "metadata": {
  "kernelspec": {
   "display_name": "Julia 1.9.1",
   "language": "julia",
   "name": "julia-1.9"
  },
  "language_info": {
   "file_extension": ".jl",
   "mimetype": "application/julia",
   "name": "julia",
   "version": "1.9.1"
  }
 },
 "nbformat": 4,
 "nbformat_minor": 5
}
