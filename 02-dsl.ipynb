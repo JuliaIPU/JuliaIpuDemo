{
 "cells": [
  {
   "cell_type": "code",
   "execution_count": 1,
   "id": "17504439-c996-414e-86c7-ef328db8766a",
   "metadata": {},
   "outputs": [
    {
     "name": "stderr",
     "output_type": "stream",
     "text": [
      "WARNING: using IPUCompiler.Out in module Main conflicts with an existing identifier.\n",
      "WARNING: using IPUCompiler.In in module Main conflicts with an existing identifier.\n"
     ]
    }
   ],
   "source": [
    "using IPUToolkit.IPUCompiler, IPUToolkit.Poplar"
   ]
  },
  {
   "cell_type": "markdown",
   "id": "f4c5a8d1-bdd1-462b-8274-c1f8c95654c5",
   "metadata": {},
   "source": [
    "This notebook shows a small example of a very simple DSL that you can use to"
   ]
  },
  {
   "cell_type": "code",
   "execution_count": 2,
   "id": "aec12779-35a6-4527-91df-2d9b54b38fc2",
   "metadata": {},
   "outputs": [
    {
     "name": "stderr",
     "output_type": "stream",
     "text": [
      "\u001b[36m\u001b[1m[ \u001b[22m\u001b[39m\u001b[36m\u001b[1mInfo: \u001b[22m\u001b[39mTrying to attach to device 0...\n",
      "\u001b[36m\u001b[1m[ \u001b[22m\u001b[39m\u001b[36m\u001b[1mInfo: \u001b[22m\u001b[39mSuccessfully attached to device 0\n",
      "\u001b[32m✓ Compiling codelet TimesTwo: \t Time: 0:00:05\u001b[39m\n",
      "\u001b[32m✓ Compiling codelet Sort: \t Time: 0:00:01\u001b[39m\n",
      "\u001b[32m✓ Compiling codelet Sin: \t Time: 0:00:00\u001b[39m\n",
      "Input: {5,2,10,102,-10,2,256,15,32,100}\n",
      "TimesTwo: {10,4,20,204,-20,4,512,30,64,200}\n",
      "Sorted: {-20,4,4,10,20,30,64,200,204,512}\n",
      "Sin: {-0.912945,-0.756802,-0.756802,-0.544021,0.912945,-0.988032,0.920026,-0.873297,0.20212,0.0795185}\n"
     ]
    }
   ],
   "source": [
    "# Define the arrays that will be used during the program.  `input` is a host array that will\n",
    "# be automatically copied to an IPU array, the other `PoplarVector`s are placeholders for\n",
    "# IPU arrays that will be populated during the execution of the program.\n",
    "input = Float32[5, 2, 10, 102, -10, 2, 256, 15, 32, 100]\n",
    "outvec1 = PoplarVector{Float32}(undef, 10)\n",
    "outvec2 = PoplarVector{Float32}(undef, 10)\n",
    "outvec3 = PoplarVector{Float32}(undef, 10)\n",
    "\n",
    "# Get the device.\n",
    "device = Poplar.get_ipu_device()\n",
    "\n",
    "# Inside `@ipuprogram` you can do only the following things:\n",
    "#\n",
    "# * define functions, which will be used as codelets in the IPU program\n",
    "# * call these functions, which will automatically build the graph of the calls for you\n",
    "# * print tensors on the IPU with the \"special\" function `print_tensor`\n",
    "# * copy IPU tensors to the host\n",
    "@ipuprogram device begin\n",
    "    # Define the functions/codelets.  All arguments must be `VertexVector`s.\n",
    "    function TimesTwo(inconst::VertexVector{Float32, IPUCompiler.In}, outvec::VertexVector{Float32, IPUCompiler.Out})\n",
    "        outvec .= 2 .* inconst\n",
    "    end\n",
    "    function Sort(invec::VertexVector{Float32, IPUCompiler.In}, outvec::VertexVector{Float32, IPUCompiler.Out})\n",
    "        outvec .= invec\n",
    "        sort!(outvec)\n",
    "    end\n",
    "    function Sin(invec::VertexVector{Float32, IPUCompiler.In}, outvec::VertexVector{Float32, IPUCompiler.Out})\n",
    "        for idx in eachindex(outvec)\n",
    "            @inbounds outvec[idx] = sin(invec[idx])\n",
    "        end\n",
    "    end\n",
    "\n",
    "    # Run the functions.  Arguments must be the arrays defined above, either host arrays\n",
    "    # (which will be copied to the IPU automatically) or `PoplarVector`s.\n",
    "    TimesTwo(input, outvec1)\n",
    "    Sort(outvec1, outvec2)\n",
    "    Sin(outvec2, outvec3)\n",
    "\n",
    "    # `print_tensor` is a special function which prints tensors to the host\n",
    "    # using `Poplar.ProgramPrintTensor` under the hood.  Syntax is\n",
    "    #     print_tensor(<LABEL>, <tensor variable>)\n",
    "    print_tensor(\"Input\",    input)\n",
    "    print_tensor(\"TimesTwo\", outvec1)\n",
    "    print_tensor(\"Sorted\",   outvec2)\n",
    "    print_tensor(\"Sin\",      outvec3)\n",
    "\n",
    "    # Copy IPU tensors to the host.  The right-hand side must be one of the tensors defined\n",
    "    # above, the left-hand side is the name of a host array which will be created\n",
    "    # automatically for you, so you will be able to reference them after the `@ipuprogram`.\n",
    "    jl_outvec1 = outvec1\n",
    "    jl_outvec2 = outvec2\n",
    "    jl_outvec3 = outvec3\n",
    "end\n",
    "\n",
    "# Detach the device when we're done.\n",
    "Poplar.detach_devices()"
   ]
  },
  {
   "cell_type": "code",
   "execution_count": 3,
   "id": "80b82b63-a90f-4df6-bba3-0863521bc88f",
   "metadata": {},
   "outputs": [
    {
     "data": {
      "text/plain": [
       "true"
      ]
     },
     "execution_count": 3,
     "metadata": {},
     "output_type": "execute_result"
    }
   ],
   "source": [
    "jl_outvec1 ≈ 2 .* input"
   ]
  },
  {
   "cell_type": "code",
   "execution_count": 4,
   "id": "f14797ad-557c-4931-9f42-582f12068849",
   "metadata": {
    "tags": []
   },
   "outputs": [
    {
     "data": {
      "text/plain": [
       "true"
      ]
     },
     "execution_count": 4,
     "metadata": {},
     "output_type": "execute_result"
    }
   ],
   "source": [
    "jl_outvec2 ≈ sort(jl_outvec1)"
   ]
  },
  {
   "cell_type": "code",
   "execution_count": 5,
   "id": "4a63d307-3f7d-40d8-8941-270eb7cfa364",
   "metadata": {},
   "outputs": [
    {
     "data": {
      "text/plain": [
       "true"
      ]
     },
     "execution_count": 5,
     "metadata": {},
     "output_type": "execute_result"
    }
   ],
   "source": [
    "jl_outvec3 ≈ sin.(jl_outvec2)"
   ]
  },
  {
   "cell_type": "code",
   "execution_count": 6,
   "id": "a20e3475-8c54-4d9b-bc3c-bfd21482ed7a",
   "metadata": {},
   "outputs": [],
   "source": [
    "# Always remember to release the device after use!\n",
    "Poplar.detach_devices()"
   ]
  }
 ],
 "metadata": {
  "kernelspec": {
   "display_name": "Julia 1.9.1",
   "language": "julia",
   "name": "julia-1.9"
  },
  "language_info": {
   "file_extension": ".jl",
   "mimetype": "application/julia",
   "name": "julia",
   "version": "1.9.1"
  }
 },
 "nbformat": 4,
 "nbformat_minor": 5
}
