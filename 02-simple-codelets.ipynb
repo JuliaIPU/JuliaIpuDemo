{
 "cells": [
  {
   "cell_type": "code",
   "execution_count": 1,
   "id": "1109aee4-1daf-4d50-8608-9cbb01749103",
   "metadata": {},
   "outputs": [
    {
     "name": "stderr",
     "output_type": "stream",
     "text": [
      "WARNING: using IPUCompiler.In in module Main conflicts with an existing identifier.\n",
      "WARNING: using IPUCompiler.Out in module Main conflicts with an existing identifier.\n",
      "\u001b[36m\u001b[1m[ \u001b[22m\u001b[39m\u001b[36m\u001b[1mInfo: \u001b[22m\u001b[39mTrying to attach to device 0...\n",
      "\u001b[36m\u001b[1m[ \u001b[22m\u001b[39m\u001b[36m\u001b[1mInfo: \u001b[22m\u001b[39mSuccessfully attached to device 0\n",
      "\u001b[32m✓ Compiling codelet TimesTwo: \t Time: 0:00:04\u001b[39m\n",
      "\u001b[32m✓ Compiling codelet Sort: \t Time: 0:00:01\u001b[39m\n",
      "T[0.3]: sort!(out):\n",
      "T[0.3]: 9630 cycles\n",
      "Input: {5,2,10,102,-10,2,256,15,32,100}\n",
      "Output Times2: {10,4,20,204,-20,4,512,30,64,200}\n",
      "Output Sorted: {-20,4,4,10,20,30,64,200,204,512}\n"
     ]
    }
   ],
   "source": [
    "using IPUToolkit.IPUCompiler\n",
    "using IPUToolkit.Poplar\n",
    "\n",
    "# Get a device, and initialise the graph and the program\n",
    "device = Poplar.get_ipu_device()\n",
    "target = Poplar.DeviceGetTarget(device)\n",
    "graph = Poplar.Graph(target)\n",
    "prog = Poplar.ProgramSequence()\n",
    "\n",
    "# Multiply input vector `in` by 2, and store result in vector `out`.\n",
    "@codelet graph function TimesTwo(in::VertexVector{Float16, IPUCompiler.In}, out::VertexVector{Float16, IPUCompiler.Out})\n",
    "    out .= in .* 2\n",
    "end\n",
    "\n",
    "# Copy the input array `in` into `out` and sort the latter in-place.\n",
    "# Also, print out how many cycles it took to sort the vector.\n",
    "@codelet graph function Sort(in::VertexVector{Float16, IPUCompiler.In}, out::VertexVector{Float16, IPUCompiler.Out})\n",
    "    copyto!(out, in)\n",
    "    @ipushowcycles sort!(out)\n",
    "end\n",
    "\n",
    "# Create the input vector on the IPU\n",
    "inconst = Poplar.GraphAddConstant(graph, Float16[5, 2, 10, 102, -10, 2, 256, 15, 32, 100])\n",
    "# Create other variable vectors on the IPU\n",
    "outvec1 = similar(graph, inconst, \"outvec1\");\n",
    "outvec2 = similar(graph, inconst, \"outvec2\");\n",
    "\n",
    "# Add vertices to the graph, running on a single tile\n",
    "add_vertex(graph, prog, TimesTwo, inconst, outvec1)\n",
    "add_vertex(graph, prog, Sort, outvec1, outvec2)\n",
    "\n",
    "# Print out the tensors\n",
    "Poplar.ProgramSequenceAdd(prog, Poplar.ProgramPrintTensor(\"Input\", inconst))\n",
    "Poplar.ProgramSequenceAdd(prog, Poplar.ProgramPrintTensor(\"Output Times2\", outvec1))\n",
    "Poplar.ProgramSequenceAdd(prog, Poplar.ProgramPrintTensor(\"Output Sorted\", outvec2))\n",
    "\n",
    "# Run the program\n",
    "engine = Poplar.Engine(graph, prog)\n",
    "Poplar.EngineLoadAndRun(engine, device)\n",
    "\n",
    "# Detach the device\n",
    "Poplar.detach_devices()"
   ]
  },
  {
   "cell_type": "code",
   "execution_count": 2,
   "id": "420fe9da-c708-434e-9544-fa6f2506d655",
   "metadata": {},
   "outputs": [],
   "source": [
    "# Always remember to release the device after use!\n",
    "Poplar.detach_devices()"
   ]
  }
 ],
 "metadata": {
  "kernelspec": {
   "display_name": "Julia 1.9.1",
   "language": "julia",
   "name": "julia-1.9"
  },
  "language_info": {
   "file_extension": ".jl",
   "mimetype": "application/julia",
   "name": "julia",
   "version": "1.9.1"
  }
 },
 "nbformat": 4,
 "nbformat_minor": 5
}
