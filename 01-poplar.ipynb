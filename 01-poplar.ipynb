{
 "cells": [
  {
   "cell_type": "markdown",
   "id": "b47d9c94-bfb8-43c2-9d1d-5bb4ce8f1dbb",
   "metadata": {},
   "source": [
    "# Using the Poplar SDK from Julia\n",
    "\n",
    "This notebook shows a simple example of using functionalities in the [Poplar SDK](https://docs.graphcore.ai/projects/poplar-api/en/latest/index.html) from Julia."
   ]
  },
  {
   "cell_type": "code",
   "execution_count": 1,
   "id": "41ac5f49-420f-400e-b905-6892ef17d3d3",
   "metadata": {},
   "outputs": [],
   "source": [
    "using IPUToolkit.Poplar"
   ]
  },
  {
   "cell_type": "code",
   "execution_count": 2,
   "id": "af80e126-c5b6-423d-b290-e32ffdfcdd84",
   "metadata": {},
   "outputs": [
    {
     "name": "stderr",
     "output_type": "stream",
     "text": [
      "\u001b[36m\u001b[1m[ \u001b[22m\u001b[39m\u001b[36m\u001b[1mInfo: \u001b[22m\u001b[39mTrying to attach to device 0...\n",
      "\u001b[36m\u001b[1m[ \u001b[22m\u001b[39m\u001b[36m\u001b[1mInfo: \u001b[22m\u001b[39mSuccessfully attached to device 0\n"
     ]
    },
    {
     "name": "stdout",
     "output_type": "stream",
     "text": [
      "h3 data: "
     ]
    },
    {
     "name": "stderr",
     "output_type": "stream",
     "text": [
      "v1-debug: {1,1.5,2,2.5}\n",
      "v2-debug: {1,1.5,2,2.5}\n",
      "v4-0: {1,2,3,4,5,6,7,8,9,10}\n",
      "v4-1: {11,12,13,14,15,16,17,18,19,20}\n",
      "v4-2: {21,22,23,24,25,26,27,28,29,30}\n"
     ]
    },
    {
     "data": {
      "text/plain": [
       "4×4 adjoint(::Matrix{Float32}) with eltype Float32:\n",
       " 0.0  0.0  0.0  0.0\n",
       " 0.0  1.0  1.5  2.0\n",
       " 0.0  0.0  0.0  0.0\n",
       " 0.0  0.0  0.0  0.0"
      ]
     },
     "metadata": {},
     "output_type": "display_data"
    }
   ],
   "source": [
    "# Set up graph and program\n",
    "device = Poplar.get_ipu_device()\n",
    "target = Poplar.DeviceGetTarget(device)\n",
    "graph = Poplar.Graph(target)\n",
    "prog = Poplar.ProgramSequence()\n",
    "\n",
    "# Create IPU tensors\n",
    "c1 = Poplar.GraphAddConstant(graph, Float32[1.0, 1.5, 2.0, 2.5])\n",
    "v1 = similar(graph, c1, \"v1\")\n",
    "v2 = similar(graph, c1, \"v2\")\n",
    "v3 = Poplar.GraphAddVariable(graph, Poplar.FLOAT(), UInt64[4, 4], \"v3\")\n",
    "v4 = Poplar.GraphAddVariable(graph, Poplar.INT(), UInt64[10], \"v4\")\n",
    "\n",
    "# Tensors tile mapping\n",
    "Poplar.GraphSetTileMapping(graph, v1, 0)\n",
    "\n",
    "for i in UInt64(0):UInt64(3)\n",
    "    Poplar.GraphSetTileMapping(graph, v2[i], i)\n",
    "end\n",
    "\n",
    "Poplar.GraphSetTileMapping(graph, v3, 0)\n",
    "Poplar.GraphSetTileMapping(graph, v4, 0)\n",
    "\n",
    "Poplar.GraphSetTileMapping(graph, c1, 0)\n",
    "\n",
    "# Copy `c1` to `v1` and print `v1`\n",
    "Poplar.ProgramSequenceAdd(prog, Poplar.ProgramCopy(c1, v1))\n",
    "Poplar.ProgramSequenceAdd(prog, Poplar.ProgramPrintTensor(\"v1-debug\", v1))\n",
    "\n",
    "# Copy `v1` to `v2` and print `v2` (should be same as `v1` above)\n",
    "Poplar.ProgramSequenceAdd(prog, Poplar.ProgramCopy(v1, v2))\n",
    "Poplar.ProgramSequenceAdd(prog, Poplar.ProgramPrintTensor(\"v2-debug\", v2))\n",
    "\n",
    "# Prepare copying data between CPU and IPU \n",
    "Poplar.GraphCreateHostWrite(graph, \"v3-write\", v3)\n",
    "Poplar.GraphCreateHostRead(graph, \"v3-read\", v3)\n",
    "\n",
    "v1slice = Poplar.TensorSlice(v1, 0, 3)\n",
    "v3slice = Poplar.TensorSlice(v3, UInt64[1, 1], UInt64[2, 4])\n",
    "Poplar.ProgramSequenceAdd(prog, Poplar.ProgramCopy(v1slice, v3slice))\n",
    "\n",
    "# Read three batches of 10 `Int32`s from the strea `inStream` into `v4` and print values\n",
    "inStream = Poplar.GraphAddHostToDeviceFIFO(graph, \"v4-input-stream\", Poplar.INT(), 10)\n",
    "\n",
    "Poplar.ProgramSequenceAdd(prog, Poplar.ProgramCopy(inStream, v4))\n",
    "Poplar.ProgramSequenceAdd(prog, Poplar.ProgramPrintTensor(\"v4-0\", v4))\n",
    "Poplar.ProgramSequenceAdd(prog, Poplar.ProgramCopy(inStream, v4))\n",
    "Poplar.ProgramSequenceAdd(prog, Poplar.ProgramPrintTensor(\"v4-1\", v4))\n",
    "Poplar.ProgramSequenceAdd(prog, Poplar.ProgramCopy(inStream, v4))\n",
    "Poplar.ProgramSequenceAdd(prog, Poplar.ProgramPrintTensor(\"v4-2\", v4))\n",
    "\n",
    "flags = Poplar.OptionFlags()\n",
    "Poplar.OptionFlagsSet(flags, \"debug.instrument\", \"true\")\n",
    "\n",
    "engine = Poplar.Engine(graph, prog, flags)\n",
    "Poplar.EngineLoad(engine, device)\n",
    "\n",
    "h3 = zeros(Float32, 4, 4)\n",
    "Poplar.EngineWriteTensor(engine, \"v3-write\", h3)\n",
    "\n",
    "# Create data to stream to `v4`\n",
    "inData = Int32.(1:30)\n",
    "\n",
    "# Connect data to stream\n",
    "Poplar.EngineConnectStream(engine, \"v4-input-stream\", inData)\n",
    "\n",
    "# Run the engine\n",
    "Poplar.EngineRun(engine, 0)\n",
    "\n",
    "# Write IPU tensor `v3` to CPU array `h3`\n",
    "Poplar.EngineReadTensor(engine, \"v3-read\", h3)\n",
    "\n",
    "# Print value of CPU array `h3`\n",
    "print(\"h3 data: \")\n",
    "display(h3')\n",
    "\n",
    "# Release all devices\n",
    "Poplar.detach_devices()"
   ]
  },
  {
   "cell_type": "code",
   "execution_count": 3,
   "id": "40ddd052-f20c-4d9b-a8f3-2fafdb9e0086",
   "metadata": {},
   "outputs": [],
   "source": [
    "# Remember to release all devices after use\n",
    "Poplar.detach_devices()"
   ]
  }
 ],
 "metadata": {
  "kernelspec": {
   "display_name": "Julia 1.9.1",
   "language": "julia",
   "name": "julia-1.9"
  },
  "language_info": {
   "file_extension": ".jl",
   "mimetype": "application/julia",
   "name": "julia",
   "version": "1.9.1"
  }
 },
 "nbformat": 4,
 "nbformat_minor": 5
}
